{
  "cells": [
    {
      "cell_type": "markdown",
      "source": [
        "# China_city_target_GSP data preprocessing\n",
        "\n",
        "This notebook has been generated on 2019-08-26 11:04 \n",
        "\n",
        "The objective of this notebook is to YYY\n",
        "\n",
        "## Global steps \n",
        "\n",
        "The global steps to construct the dataset are the following:\n",
        "\n",
        "- Lorem ipsum dolor sit amet\n",
        "- Lorem ipsum dolor sit amet\n",
        "- Lorem ipsum dolor sit amet\n",
        "\n",
        "## Data source \n",
        "\n",
        "The data source to construct the dataset are the following:"
      ],
      "metadata": {
        "Collapsed": "false"
      }
    },
    {
      "cell_type": "markdown",
      "source": [
        "\n",
        " ### Big Query Dataset \n",
        " \n",
        " ### Google Cloud Storage Dataset \n",
        " \n",
        " ### Google Spreadsheet Dataset \n",
        " \n",
        " - [chinese_city_characteristics](https://docs.google.com/spreadsheets/1-x9DCX4cun6Ed9iH5MiI4g21fXm7seRHHz7WXGiVKVU) \n",
        " - [China_cities_target_so2](https://docs.google.com/spreadsheets/1z3A_I8_StdyNL5O38s2l9hx6W3VR49CGVmaosypjFMA)"
      ],
      "metadata": {
        "Collapsed": "false"
      }
    },
    {
      "cell_type": "markdown",
      "source": [
        "## Destination\n",
        "\n",
        "The new dataset is available from XXX\n",
        "\n",
        "- GS: None\n",
        "- GCS: China_city_target_GSP.gz\n",
        "- BG: China_city_target_GSP"
      ],
      "metadata": {
        "Collapsed": "false"
      }
    },
    {
      "cell_type": "markdown",
      "source": [
        "# Load Dataset\n"
      ],
      "metadata": {
        "Collapsed": "false"
      }
    },
    {
      "cell_type": "code",
      "source": [
        "from Fast_connectCloud import connector\n",
        "from GoogleDrivePy.google_drive import connect_drive\n",
        "from GoogleDrivePy.google_platform import connect_cloud_platform\n",
        "import pandas as pd \n",
        "import numpy as np\n",
        "import pandas_profiling"
      ],
      "outputs": [],
      "execution_count": null,
      "metadata": {
        "Collapsed": "false"
      }
    },
    {
      "cell_type": "code",
      "source": [
        "gs = connector.open_connection(online_connection = False, \n",
        "\tpath_credential = '/Users/Thomas/Google Drive/Projects/Data_science/Google_code_n_Oauth/Client_Oauth/Google_auth/')\n",
        "\n",
        "service_gd = gs.connect_remote(engine = 'GS')\n",
        "service_gcp = gs.connect_remote(engine = 'GCP')\n",
        "\n",
        "gdr = connect_drive.connect_drive(service_gd['GoogleDrive'])\n",
        "\n",
        "project = 'valid-pagoda-132423'\n",
        "gcp = connect_cloud_platform.connect_console(project = project,\n",
        "\t\t\t\t\t\t\t\t\t\t\t service_account = service_gcp['GoogleCloudP'])"
      ],
      "outputs": [],
      "execution_count": null,
      "metadata": {
        "Collapsed": "false"
      }
    },
    {
      "cell_type": "markdown",
      "source": [
        "\n",
        "## Load chinese_city_characteristics from Google Spreadsheet\n",
        "\n",
        "Feel free to add description about the dataset or any usefull information.\n",
        "\n",
        "Profiling will be available soon for this dataset\n",
        "\n",
        "We removed columns AC:CP in GS because the function upload_data cannot loads data after columns AC"
      ],
      "metadata": {
        "Collapsed": "false"
      }
    },
    {
      "cell_type": "code",
      "source": [
        "\n",
        "### Please go here https://docs.google.com/spreadsheets/d/1-x9DCX4cun6Ed9iH5MiI4g21fXm7seRHHz7WXGiVKVU\n",
        "### To change the range\n",
        "\n",
        "sheetid = '1-x9DCX4cun6Ed9iH5MiI4g21fXm7seRHHz7WXGiVKVU'\n",
        "sheetname = 'chinese_city_characteristics.csv'\n",
        "\n",
        "df_chinese_city_characteristics = gdr.upload_data_from_spreadsheet(sheetID = sheetid,\n",
        "sheetName = sheetname,\n",
        "\t to_dataframe = True)\n",
        "df_chinese_city_characteristics.head()\n"
      ],
      "outputs": [],
      "execution_count": null,
      "metadata": {
        "Collapsed": "false"
      }
    },
    {
      "cell_type": "markdown",
      "source": [
        "\n",
        "## Load China_cities_target_so2 from Google Spreadsheet\n",
        "\n",
        "Feel free to add description about the dataset or any usefull information.\n",
        "\n",
        "Profiling will be available soon for this dataset\n",
        "\n"
      ],
      "metadata": {
        "Collapsed": "false"
      }
    },
    {
      "cell_type": "code",
      "source": [
        "\n",
        "### Please go here https://docs.google.com/spreadsheets/d/1z3A_I8_StdyNL5O38s2l9hx6W3VR49CGVmaosypjFMA\n",
        "### To change the range\n",
        "\n",
        "sheetid = '1z3A_I8_StdyNL5O38s2l9hx6W3VR49CGVmaosypjFMA'\n",
        "sheetname = 'China_cities_target_so2'\n",
        "\n",
        "df_China_cities_target_so2 = gdr.upload_data_from_spreadsheet(sheetID = sheetid,\n",
        "sheetName = sheetname,\n",
        "\t to_dataframe = True)\n",
        "df_China_cities_target_so2.head()\n"
      ],
      "outputs": [],
      "execution_count": null,
      "metadata": {
        "Collapsed": "false"
      }
    },
    {
      "cell_type": "markdown",
      "source": [
        "## Load cityname_and_code from Google Spreadsheet\n",
        "\n",
        "Feel free to add description about the dataset or any usefull information.\n",
        "\n",
        "Profiling will be available soon for this dataset"
      ],
      "metadata": {
        "Collapsed": "false"
      }
    },
    {
      "cell_type": "code",
      "source": [
        "### Please go here https://docs.google.com/spreadsheets/d/1fIziz-Xt99-Rj6NLm52-i6jScOLXgAY20KJi8k3DruA\n",
        "### To change the range\n",
        "\n",
        "sheetid = '1fIziz-Xt99-Rj6NLm52-i6jScOLXgAY20KJi8k3DruA'\n",
        "sheetname = 'final'\n",
        "\n",
        "df_cityname_and_code = gdr.upload_data_from_spreadsheet(sheetID = sheetid,\n",
        "sheetName = sheetname,\n",
        "\t to_dataframe = True)\n",
        "df_cityname_and_code.head()"
      ],
      "outputs": [],
      "execution_count": null,
      "metadata": {
        "Collapsed": "false"
      }
    },
    {
      "cell_type": "markdown",
      "source": [
        "# Workflow\n",
        "\n",
        "In this section, we will construct the dataset, and document each step of the workflow.\n",
        "\n",
        "Please use the following format for the documentation:\n",
        "\n",
        "- `##` Step 1: XXX\n",
        "- `###` (optional) Underlying process description\n",
        "- `##` Step 2: YYY\n",
        "- `###` (optional) Underlying process description\n",
        "\n",
        "Note: **You need to rename the last dataframe `df_final`**"
      ],
      "metadata": {
        "Collapsed": "false"
      }
    },
    {
      "cell_type": "markdown",
      "source": [
        "## Step 1: Merge city chinese/english"
      ],
      "metadata": {
        "Collapsed": "false"
      }
    },
    {
      "cell_type": "code",
      "source": [
        "cities = (df_cityname_and_code\n",
        "          .merge(df_China_cities_target_so2,\n",
        "                          on = 'citycn', \n",
        "                          how = 'inner')\n",
        "          .drop_duplicates(subset = 'citycn',\n",
        "                           keep = 'first')\n",
        "         )\n",
        "cities['year'] = '2005'"
      ],
      "outputs": [],
      "execution_count": null,
      "metadata": {
        "Collapsed": "false"
      }
    },
    {
      "cell_type": "code",
      "source": [
        "to_keep = ['geocode4_corr', 'year', 'gdp', 'population']\n",
        "cities_gdp = cities.merge(df_chinese_city_characteristics[to_keep],\n",
        "                on = ['geocode4_corr', 'year'])\n"
      ],
      "outputs": [],
      "execution_count": null,
      "metadata": {
        "Collapsed": "false"
      }
    },
    {
      "cell_type": "code",
      "source": [
        "df_final = cities_gdp.apply(pd.to_numeric, errors='ignore')"
      ],
      "outputs": [],
      "execution_count": null,
      "metadata": {
        "Collapsed": "false"
      }
    },
    {
      "cell_type": "code",
      "source": [
        "df_final['gdp_cap'] = df_final['gdp'] / df_final['population'] "
      ],
      "outputs": [],
      "execution_count": null,
      "metadata": {
        "Collapsed": "false"
      }
    },
    {
      "cell_type": "markdown",
      "source": [
        "# Profiling\n",
        "\n",
        "In order to get a quick summary statistic of the data, we generate an HTML file with the profiling of the dataset we've just created. \n",
        "\n",
        "The profiling will be available at this URL after you commit a push to GitHub. \n",
        "\n",
        "**You need to rename the final dataframe `df_final` in the previous section to generate the profiling.**"
      ],
      "metadata": {
        "Collapsed": "false"
      }
    },
    {
      "cell_type": "code",
      "source": [
        "#### make sure the final dataframe is stored as df_final\n",
        "profile = pandas_profiling.ProfileReport(df_final)\n",
        "name_html = \"China_city_target_GSP.html\"\n",
        "profile.to_file(output_file=name_html)"
      ],
      "outputs": [],
      "execution_count": null,
      "metadata": {
        "Collapsed": "false"
      }
    },
    {
      "cell_type": "markdown",
      "source": [
        "# Upload to cloud\n",
        "\n",
        "The dataset is ready to be shared with your colleagues. \n",
        "\n"
      ],
      "metadata": {
        "Collapsed": "false"
      }
    },
    {
      "cell_type": "markdown",
      "source": [
        "\n",
        "\n",
        "### Move to GCS and BigQuery\n",
        "\n",
        "We move the dataset to the following:\n",
        "\n",
        "- **bucket**: *NEED TO DEFINE*\n",
        "\n",
        "- **Destination_blob**: *XXXXX/Processed_*\n",
        "- **name**:  *China_city_target_GSP.gz*\n",
        "- **Dataset**: *China*\n",
        "\n",
        "- **table**: *China_city_target_GSP*\n",
        "\n",
        "### GCS\n",
        "\n",
        "We first need to save *China_city_target_GSP* with `.gz` extension locally then we can move it\n",
        "to GCS\n"
      ],
      "metadata": {
        "Collapsed": "false"
      }
    },
    {
      "cell_type": "code",
      "source": [
        "\n",
        "### First save locally\n",
        "df_final.to_csv(\n",
        "\t'China_city_target_GSP.gz',\n",
        "\tsep=',',\n",
        "\theader=True,\n",
        "\tindex=False,\n",
        "\tchunksize=100000,\n",
        "\tcompression='gzip',\n",
        "\tencoding='utf-8')\n",
        "\n",
        "### Then upload to GCS\n",
        "bucket_name = 'chinese_data'\n",
        "destination_blob_name = 'Panel_china/Cities_panel_china/Processed_cities_china'\n",
        "source_file_name = 'China_city_target_GSP.gz'\n",
        "gcp.upload_blob(bucket_name, destination_blob_name, source_file_name)\n",
        "\n"
      ],
      "outputs": [],
      "execution_count": null,
      "metadata": {
        "Collapsed": "false"
      }
    },
    {
      "cell_type": "code",
      "source": [
        "\n",
        "\n",
        "### Move to bigquery\n",
        "bucket_gcs ='chinese_data/Panel_china/Cities_panel_china/Processed_cities_china/China_city_target_GSP.gz'\n",
        "gcp.move_to_bq_autodetect(dataset_name= 'China',\n",
        "\t\t\t\t\t\t\t name_table= 'China_city_target_GSP',\n",
        "\t\t\t\t\t\t\t bucket_gcs=bucket_gcs)\n"
      ],
      "outputs": [],
      "execution_count": null,
      "metadata": {
        "Collapsed": "false"
      }
    }
  ],
  "metadata": {
    "kernelspec": {
      "display_name": "Python 3",
      "language": "python",
      "name": "python3"
    },
    "language_info": {
      "codemirror_mode": {
        "name": "ipython",
        "version": 3
      },
      "file_extension": ".py",
      "mimetype": "text/x-python",
      "name": "python",
      "nbconvert_exporter": "python",
      "pygments_lexer": "ipython3",
      "version": "3.7.3"
    },
    "nteract": {
      "version": "0.21.0"
    }
  },
  "nbformat": 4,
  "nbformat_minor": 4
}