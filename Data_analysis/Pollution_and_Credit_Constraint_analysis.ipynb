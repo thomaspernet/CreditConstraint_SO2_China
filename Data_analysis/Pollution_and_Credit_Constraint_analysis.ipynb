{
  "cells": [
    {
      "cell_type": "markdown",
      "source": [
        "# Pollution_and_Credit_Constraint data analysis\n",
        "\n",
        "This notebook has been generated on 2019-08-01 09:46 \n",
        "\n",
        "The objective of this notebook is to generate the tables and figure for the paper **Financial dependencies and environmental regulation**\n",
        "\n",
        "## Analysis steps\n",
        "\n",
        "The analysis steps performed in this notebook are the following\n",
        "\n",
        "- Table to paper\n",
        "    - Table 1: Summary statistics\n",
        "- SO2 summary statistics\n",
        "- Financial dep & SO2 relationship\n",
        "\n",
        "## Data source \n",
        "\n",
        "The data source of this dataset is:\n",
        "\n",
        "- [CreditConstraint_SO2_China](HERE)\n",
        "\n",
        "### Variable name\n",
        "\n",
        "The variables names and labels are the following:"
      ],
      "metadata": {
        "Collapsed": "false"
      }
    },
    {
      "cell_type": "markdown",
      "source": [
        "<table border=\"1\" class=\"dataframe\">\n",
        "  <thead>\n",
        "    <tr style=\"text-align: right;\">\n",
        "      <th></th>\n",
        "      <th>Variables</th>\n",
        "      <th>Labels</th>\n",
        "      <th>Types</th>\n",
        "    </tr>\n",
        "  </thead>\n",
        "  <tbody>\n",
        "    <tr>\n",
        "      <th>0</th>\n",
        "      <td>year</td>\n",
        "      <td>year</td>\n",
        "      <td>int64</td>\n",
        "    </tr>\n",
        "    <tr>\n",
        "      <th>1</th>\n",
        "      <td>Post</td>\n",
        "      <td>Post</td>\n",
        "      <td>bool</td>\n",
        "    </tr>\n",
        "    <tr>\n",
        "      <th>2</th>\n",
        "      <td>prov2013</td>\n",
        "      <td>prov2013</td>\n",
        "      <td>object</td>\n",
        "    </tr>\n",
        "    <tr>\n",
        "      <th>3</th>\n",
        "      <td>citycn</td>\n",
        "      <td>citycn</td>\n",
        "      <td>object</td>\n",
        "    </tr>\n",
        "    <tr>\n",
        "      <th>4</th>\n",
        "      <td>geocode4_corr</td>\n",
        "      <td>geocode4_corr</td>\n",
        "      <td>int64</td>\n",
        "    </tr>\n",
        "    <tr>\n",
        "      <th>5</th>\n",
        "      <td>CIC</td>\n",
        "      <td>CIC</td>\n",
        "      <td>int64</td>\n",
        "    </tr>\n",
        "    <tr>\n",
        "      <th>6</th>\n",
        "      <td>Industry_Name</td>\n",
        "      <td>Industry_Name</td>\n",
        "      <td>object</td>\n",
        "    </tr>\n",
        "    <tr>\n",
        "      <th>7</th>\n",
        "      <td>financial_dep_china</td>\n",
        "      <td>financial_dep_china</td>\n",
        "      <td>float64</td>\n",
        "    </tr>\n",
        "    <tr>\n",
        "      <th>8</th>\n",
        "      <td>SO2_emissions_2005</td>\n",
        "      <td>SO2_emissions_2005</td>\n",
        "      <td>float64</td>\n",
        "    </tr>\n",
        "    <tr>\n",
        "      <th>9</th>\n",
        "      <td>ttoutput</td>\n",
        "      <td>ttoutput</td>\n",
        "      <td>float64</td>\n",
        "    </tr>\n",
        "    <tr>\n",
        "      <th>10</th>\n",
        "      <td>tso2</td>\n",
        "      <td>tso2</td>\n",
        "      <td>int64</td>\n",
        "    </tr>\n",
        "    <tr>\n",
        "      <th>11</th>\n",
        "      <td>so2_intensity_value_added</td>\n",
        "      <td>so2_intensity_value_added</td>\n",
        "      <td>float64</td>\n",
        "    </tr>\n",
        "    <tr>\n",
        "      <th>12</th>\n",
        "      <td>target_perc_SO2</td>\n",
        "      <td>target_perc_SO2</td>\n",
        "      <td>float64</td>\n",
        "    </tr>\n",
        "    <tr>\n",
        "      <th>13</th>\n",
        "      <td>tso2_mandate_c</td>\n",
        "      <td>tso2_mandate_c</td>\n",
        "      <td>float64</td>\n",
        "    </tr>\n",
        "    <tr>\n",
        "      <th>14</th>\n",
        "      <td>avg_ij_o_city_mandate</td>\n",
        "      <td>avg_ij_o_city_mandate</td>\n",
        "      <td>float64</td>\n",
        "    </tr>\n",
        "    <tr>\n",
        "      <th>15</th>\n",
        "      <td>d_avg_ij_o_city_mandate</td>\n",
        "      <td>d_avg_ij_o_city_mandate</td>\n",
        "      <td>bool</td>\n",
        "    </tr>\n",
        "    <tr>\n",
        "      <th>16</th>\n",
        "      <td>fixed_asset</td>\n",
        "      <td>fixed_asset</td>\n",
        "      <td>float64</td>\n",
        "    </tr>\n",
        "    <tr>\n",
        "      <th>17</th>\n",
        "      <td>employment</td>\n",
        "      <td>employment</td>\n",
        "      <td>float64</td>\n",
        "    </tr>\n",
        "    <tr>\n",
        "      <th>18</th>\n",
        "      <td>FE_c_y</td>\n",
        "      <td>FE_c_y</td>\n",
        "      <td>int64</td>\n",
        "    </tr>\n",
        "    <tr>\n",
        "      <th>19</th>\n",
        "      <td>FE_c_i</td>\n",
        "      <td>FE_c_i</td>\n",
        "      <td>int64</td>\n",
        "    </tr>\n",
        "    <tr>\n",
        "      <th>20</th>\n",
        "      <td>FE_i_y</td>\n",
        "      <td>FE_i_y</td>\n",
        "      <td>int64</td>\n",
        "    </tr>\n",
        "    <tr>\n",
        "      <th>21</th>\n",
        "      <td>color_ext_dep</td>\n",
        "      <td>color_ext_dep</td>\n",
        "      <td>object</td>\n",
        "    </tr>\n",
        "    <tr>\n",
        "      <th>22</th>\n",
        "      <td>color_target_SO2</td>\n",
        "      <td>color_target_SO2</td>\n",
        "      <td>object</td>\n",
        "    </tr>\n",
        "    <tr>\n",
        "      <th>23</th>\n",
        "      <td>Provinces</td>\n",
        "      <td>Provinces</td>\n",
        "      <td>object</td>\n",
        "    </tr>\n",
        "    <tr>\n",
        "      <th>24</th>\n",
        "      <td>location</td>\n",
        "      <td>location</td>\n",
        "      <td>object</td>\n",
        "    </tr>\n",
        "  </tbody>\n",
        "</table>"
      ],
      "metadata": {
        "Collapsed": "false"
      }
    },
    {
      "cell_type": "markdown",
      "source": [
        "# Analysis"
      ],
      "metadata": {
        "Collapsed": "false"
      }
    },
    {
      "cell_type": "markdown",
      "source": [
        "## Load the data"
      ],
      "metadata": {
        "Collapsed": "false"
      }
    },
    {
      "cell_type": "code",
      "source": [
        "import pandas as pd\n",
        "from Fast_connectCloud import connector\n",
        "import plotly.express as px\n",
        "import numpy as np\n",
        "import matplotlib.pyplot as plt\n",
        "import seaborn as sns; sns.set()"
      ],
      "outputs": [],
      "execution_count": null,
      "metadata": {
        "Collapsed": "false"
      }
    },
    {
      "cell_type": "code",
      "source": [
        "gs = connector.open_connection(online_connection = False,\n",
        "                              path_credential = '/Users/Thomas/Google Drive/Projects/Data_science/Google_code_n_Oauth/Client_Oauth/Google_auth/')\n",
        "\n",
        "service = gs.connect_remote('GCP')"
      ],
      "outputs": [],
      "execution_count": null,
      "metadata": {
        "Collapsed": "false"
      }
    },
    {
      "cell_type": "code",
      "source": [
        "\n",
        "from GoogleDrivePy.google_platform import connect_cloud_platform\n",
        "project = 'valid-pagoda-132423'\n",
        "gcp = connect_cloud_platform.connect_console(project=project,\n",
        "                                             service_account=service['GoogleCloudP'])\n",
        "query = (\n",
        "    \"SELECT * \"    \"FROM China.CreditConstraint_SO2_China \"\n",
        "\n",
        ")\n",
        "\n",
        "df_final = gcp.upload_data_from_bigquery(query=query, location='US')\n",
        "df_final.head()\n"
      ],
      "outputs": [],
      "execution_count": null,
      "metadata": {
        "Collapsed": "false"
      }
    },
    {
      "cell_type": "markdown",
      "source": [
        "## Reminder province China\n",
        "\n",
        "![Provinces](https://www.chinadiscovery.com/assets/images/customer-support/maps/china-provinces-map-600.jpg)\n",
        "\n"
      ],
      "metadata": {
        "Collapsed": "false"
      }
    },
    {
      "cell_type": "markdown",
      "source": [
        "## Table\n",
        "\n",
        "We need to make few table for the paper, so we will save them in this spreadsheet: `tables_paper_pollutionCredit`\n",
        "\n",
        "- [URL](https://docs.google.com/spreadsheets/d/1VMIDr4gU8ihQCh1mGNfs9jOa7kidm21KDECEd4t3qGI/)\n",
        "- ID: `1VMIDr4gU8ihQCh1mGNfs9jOa7kidm21KDECEd4t3qGI`"
      ],
      "metadata": {
        "Collapsed": "false"
      }
    },
    {
      "cell_type": "markdown",
      "source": [
        "### Table 1: Summary statistics\n",
        "\n",
        "First table is the summary statistics "
      ],
      "metadata": {
        "Collapsed": "false"
      }
    },
    {
      "cell_type": "code",
      "source": [
        "df_final.groupby('location')['prov2013'].nunique()"
      ],
      "outputs": [],
      "execution_count": null,
      "metadata": {
        "Collapsed": "false"
      }
    },
    {
      "cell_type": "code",
      "source": [
        "df_final.groupby('location')['citycn'].nunique()"
      ],
      "outputs": [],
      "execution_count": null,
      "metadata": {
        "Collapsed": "false"
      }
    },
    {
      "cell_type": "code",
      "source": [
        "sumStat = df_final.groupby('location').agg({\n",
        "    'tso2': 'mean',\n",
        "    'tso2_mandate_c': 'mean',\n",
        "    'ttoutput': 'mean',\n",
        "    'employment': 'mean',\n",
        "    'fixed_asset': 'mean',\n",
        "    'citycn': ['nunique','count']}).reset_index()\n",
        "sumStat.columns = ['prov_loc', 'tso2_mandate_C', 'ttoutput',\n",
        "                     'employment', 'fixed_asset', 'nb cities', 'nb_obs']\n",
        "sumStat = sumStat.set_index('prov_loc')\n",
        "sumStat = sumStat.transpose().reset_index()\n",
        "sumStat = sumStat[['index','Coastal', 'Southwest','Central',\n",
        "                   'Northwest', 'Northeast']]\n",
        "\n",
        "sumStat_ = df_final.agg({\n",
        "    'tso2': 'mean',\n",
        "    'tso2_mandate_c': 'mean',\n",
        "    'ttoutput': 'mean',\n",
        "    'employment': 'mean',\n",
        "    'fixed_asset': 'mean',\n",
        "    'citycn': ['nunique']}).reset_index()\n",
        "sumStat_ = sumStat_.set_index('index')\n",
        "sumStat_ = sumStat_.transpose().reset_index()\n",
        "sumStat_.iloc[4, 1]= sumStat_.iloc[4, 2]\n",
        "sumStat_ = sumStat_[['index','mean']]\n",
        "sumStat_.columns  = ['variables' ,'total_cities']\n",
        "sumStat_ = pd.concat([sumStat, sumStat_.iloc[:, -1:]], axis = 1)\n",
        "sumStat_.iloc[5, 6] = len(df_final)\n",
        "sumStat_ = sumStat_[['index', 'total_cities', 'Coastal', 'Southwest','Central',\n",
        "                   'Northwest', 'Northeast']]\n",
        "sumStat_"
      ],
      "outputs": [],
      "execution_count": null,
      "metadata": {
        "Collapsed": "false"
      }
    },
    {
      "cell_type": "code",
      "source": [
        "sumStat = df_final.groupby('location').agg({\n",
        "    'tso2': 'mean',\n",
        "    'tso2_mandate_c': 'mean',\n",
        "    'ttoutput': 'mean',\n",
        "    'employment': 'mean',\n",
        "    'fixed_asset': 'mean',\n",
        "    'citycn': ['nunique','count']}).reset_index()\n",
        "sumStat"
      ],
      "outputs": [],
      "execution_count": null,
      "metadata": {
        "Collapsed": "false"
      }
    },
    {
      "cell_type": "code",
      "source": [
        "sumStat = df_final.groupby('location').agg({\n",
        "    'tso2_mandate_c': 'std',\n",
        "    'ttoutput': 'std',\n",
        "    'employment': 'std',\n",
        "    'fixed_asset': 'std',\n",
        "    'citycn': ['nunique','count']}).reset_index()\n",
        "sumStat.columns = ['prov_loc', 'tso2_mandate_C', 'ttoutput',\n",
        "                     'employment', 'fixed_asset', 'nb cities', 'nb_obs']\n",
        "sumStat = sumStat.set_index('prov_loc')\n",
        "sumStat = sumStat.transpose().reset_index()\n",
        "sumStat = sumStat[['index','Coastal', 'Southwest','Central',\n",
        "                   'Northwest', 'Northeast']]\n",
        "\n",
        "sumStat_ = df_final.agg({\n",
        "    'tso2_mandate_c': 'std',\n",
        "    'ttoutput': 'std',\n",
        "    'employment': 'std',\n",
        "    'fixed_asset': 'std',\n",
        "    'citycn': ['nunique']}).reset_index()\n",
        "sumStat_ = sumStat_.set_index('index')\n",
        "sumStat_ = sumStat_.transpose().reset_index()\n",
        "sumStat_.iloc[4, 1]= sumStat_.iloc[4, 2]\n",
        "sumStat_ = sumStat_[['index','std']]\n",
        "sumStat_.columns  = ['variables' ,'total_cities']\n",
        "sumStat_ = pd.concat([sumStat, sumStat_.iloc[:, -1:]], axis = 1)\n",
        "sumStat_.iloc[5, 6] = len(df_final)\n",
        "sumStat_ = sumStat_[['index', 'total_cities', 'Coastal', 'Southwest','Central',\n",
        "                   'Northwest', 'Northeast']]\n",
        "sumStat_"
      ],
      "outputs": [],
      "execution_count": null,
      "metadata": {
        "Collapsed": "false"
      }
    },
    {
      "cell_type": "markdown",
      "source": [
        "Table is here https://docs.google.com/spreadsheets/d/1VMIDr4gU8ihQCh1mGNfs9jOa7kidm21KDECEd4t3qGI/edit#gid=0"
      ],
      "metadata": {
        "Collapsed": "false"
      }
    },
    {
      "cell_type": "code",
      "source": [
        "(df_final\n",
        " .groupby([\n",
        "    'citycn',\n",
        "    'year'\n",
        "])['tso2']\n",
        " .sum()\n",
        " .groupby('year')\n",
        " .mean()\n",
        " .apply(lambda x:x / 100)\n",
        " .reset_index()\n",
        " .style\n",
        " .format(\"{0:,.0f}\")\n",
        ")"
      ],
      "outputs": [],
      "execution_count": null,
      "metadata": {
        "Collapsed": "false"
      }
    },
    {
      "cell_type": "code",
      "source": [
        "(df_final\n",
        " .groupby('Post')['tso2']\n",
        " .mean()\n",
        " .apply(lambda x:x / 100)\n",
        " .reset_index()\n",
        " .style\n",
        " .format(\"{0:,.0f}\")\n",
        ")"
      ],
      "outputs": [],
      "execution_count": null,
      "metadata": {
        "Collapsed": "false"
      }
    },
    {
      "cell_type": "code",
      "source": [
        "(df_final\n",
        " .groupby('year')['tso2']\n",
        " .mean()\n",
        " .apply(lambda x:x / 100)\n",
        " .reset_index()\n",
        " .style\n",
        " .format(\"{0:,.0f}\")\n",
        ")"
      ],
      "outputs": [],
      "execution_count": null,
      "metadata": {
        "Collapsed": "false"
      }
    },
    {
      "cell_type": "markdown",
      "source": [
        "## Graph: SO2 analysis\n",
        "\n",
        "Name the figure index as in the paper\n",
        "\n",
        "- Figure two: relationship between level of reduction and SO2 variation before and after 11th FYP\n",
        "- Figure three Relationship between level of financial dep and SO2 variation before and after 11th FYP\n",
        "- Figure four: NO\n",
        "\n",
        "Level of SO2 emission between sectors in China have remarkable variations. The objective of this paper is to disantangle the different level of pollution when a sector faces different borrowing constraints. Banks's incentive to finance a project is motivated by not only commercial aspect but also from the environmental pressure imposed by the local government. More precisely, cities are imposed by different levels of environmental severity, translated in term maximum SO2 emission allowed by the end of the 11th FYP. This statement is plotted in figure X. We plot the relationship between the city reduction target and the variation of SO2 emission for 2005 and 2007. The negative line indicates cities with stringent environmental regulation put more effort at fighting pollution. Most of the cities have decreased their emissions in 2007 than in 2005 with a faster reduction for cities under environmental pressure. In figure XX, we compare the industry financial dependencies with the indutry changes of pollution emission. The industries exposed to bank's fundings managed to lower their emissions of SO2 at a faster path. It suggests that banks have reoriented loans in favour of projects with better incident of the environment. Our empirical approach links the financial dependencies with the stringency of the local environmental regulation to understand the industrials and local changes of emission of pollution. Figure XX analyses the variations of SO2 emission by financially constraint sectors of two cities with different environmental mandate. The city of Guyang belongs to the top decile of environmental severity, the city of XX is at the third decile. Both cities share similar characteristics for GDP. In line with our expectation, the contribution to lower SO2 emission is stronger for financial dependent sectors in cities with stringent mandate. It implies the banks have more incentives to screen projects when there is a local environmental pressure."
      ],
      "metadata": {
        "Collapsed": "false"
      }
    },
    {
      "cell_type": "markdown",
      "source": [
        "### Figure 2: temp\n",
        "\n",
        "Swith `pct_change` to `lambda` because it is easier to understand is the reduction is positive\n",
        "\n",
        "First, let's check `Post` the year 2005 and 2007 only"
      ],
      "metadata": {
        "Collapsed": "true"
      }
    },
    {
      "cell_type": "code",
      "source": [
        "# level =  Provinces or citycn\n",
        "level = 'citycn'\n",
        "\n",
        "if level == 'citycn':\n",
        "    mandate = 'tso2_mandate_c'\n",
        "else:\n",
        "    mandate = 'target_perc_SO2'\n",
        "\n",
        "### Compute mean difference before/after\n",
        "df_mean_SO2 = (\n",
        "    df_final.groupby([\"Post\", level])\n",
        "    .agg({\"tso2\": \"mean\"})\n",
        "    .sort_values(by=[level, \"Post\"])\n",
        "    .apply(lambda x: np.log(x))\n",
        "    .groupby(level=1)\n",
        "    #.pct_change()\n",
        "    .apply(lambda x: (x.shift() - x)/x.shift())\n",
        "    .dropna()\n",
        ").reset_index().drop(columns = 'Post')\n",
        "\n",
        "so2_mandate = (\n",
        "    df_final[[\"Post\", level, mandate]]\n",
        "    .drop_duplicates(\n",
        "        subset=[\"citycn\", \"tso2_mandate_c\"],\n",
        "        keep=\"first\")\n",
        "    .drop(columns = 'Post')\n",
        "    .set_index('citycn')\n",
        "    .apply(lambda x: x * 10)\n",
        ")\n",
        "so2_mandate = so2_mandate[(so2_mandate['tso2_mandate_c'] < 8)\n",
        "                         ]\n",
        "\n",
        "### Merge city mandate\n",
        "df_mean_SO2 = df_mean_SO2.merge(so2_mandate,\n",
        "                                on =  level,\n",
        "                               how = 'inner')\n",
        "df_mean_SO2.head()"
      ],
      "outputs": [],
      "execution_count": null,
      "metadata": {
        "Collapsed": "false"
      }
    },
    {
      "cell_type": "markdown",
      "source": [
        "#### Plotly"
      ],
      "metadata": {
        "Collapsed": "false"
      }
    },
    {
      "cell_type": "code",
      "source": [
        "fig = px.scatter(\n",
        "    df_mean_SO2,\n",
        "    x=mandate,\n",
        "    y=\"tso2\",\n",
        "    size=mandate,\n",
        "    hover_data=[level],\n",
        ")\n",
        "fig.show()"
      ],
      "outputs": [],
      "execution_count": null,
      "metadata": {
        "Collapsed": "false"
      }
    },
    {
      "cell_type": "markdown",
      "source": [
        "### Figure 2 in the paper:  Log difference between 2005-2007 and mandate"
      ],
      "metadata": {
        "Collapsed": "false"
      }
    },
    {
      "cell_type": "code",
      "source": [
        "# level =  Provinces or citycn\n",
        "level = 'citycn'\n",
        "\n",
        "if level == 'citycn':\n",
        "    mandate = 'tso2_mandate_c'\n",
        "else:\n",
        "    mandate = 'target_perc_SO2'\n",
        "\n",
        "df_so2_05_07 = df_final[(df_final[\"year\"] == 2005) | (df_final[\"year\"] == 2007)]\n",
        "### Compute mean difference before/after\n",
        "df_mean_SO2 = (\n",
        "    df_so2_05_07.groupby([\"Post\", level])\n",
        "    .agg({\"tso2\": \"mean\"})\n",
        "    .sort_values(by=[level, \"Post\"])\n",
        "    .apply(lambda x: np.log(x))\n",
        "    .groupby(level=1)\n",
        "    #.pct_change()\n",
        "    .apply(lambda x: (x.shift() - x)/x.shift())\n",
        "    .dropna()\n",
        ").reset_index().drop(columns = 'Post')\n",
        "\n",
        "so2_mandate = (\n",
        "    df_final[[\"Post\", level, mandate]]\n",
        "    .drop_duplicates(\n",
        "        subset=[\"citycn\", \"tso2_mandate_c\"],\n",
        "        keep=\"first\")\n",
        "    .drop(columns = 'Post')\n",
        "    .set_index('citycn')\n",
        "    .apply(lambda x: x * 10)\n",
        ")\n",
        "so2_mandate = so2_mandate[(so2_mandate['tso2_mandate_c'] < 8)\n",
        "                         ]\n",
        "\n",
        "### Merge city mandate\n",
        "df_mean_SO2 = df_mean_SO2.merge(so2_mandate,\n",
        "                                on =  level,\n",
        "                               how = 'inner')\n",
        "df_mean_SO2.head()"
      ],
      "outputs": [],
      "execution_count": null,
      "metadata": {
        "Collapsed": "false"
      }
    },
    {
      "cell_type": "markdown",
      "source": [
        "### Seaborn"
      ],
      "metadata": {
        "Collapsed": "false"
      }
    },
    {
      "cell_type": "code",
      "source": [
        "sns.set_style(\"white\")\n",
        "#beingsaved.set_rasterized(True)\n",
        "sns.lmplot(x=mandate,\n",
        "           y=\"tso2\",\n",
        "           data=df_mean_SO2)\n",
        "#plt.title('Relationship between Financial dependencies and variation of SO2 between 2005 and 2007, in log')\n",
        "# Set x-axis label\n",
        "plt.xlabel('Estimated City Reduction Target (10.000 tons)')\n",
        "# Set y-axis label\n",
        "plt.ylabel('Actual Pollution Reduction (%)')\n",
        "#plt.savefig('fig1.svg', format='svg', dpi=1200)\n",
        "\n",
        "#plt.savefig('destination_path.eps', format='eps', dpi=1000)\n",
        "plt.savefig(\"fig_2.png\",\n",
        "            bbox_inches='tight',\n",
        "            dpi=600)"
      ],
      "outputs": [],
      "execution_count": null,
      "metadata": {
        "Collapsed": "false"
      }
    },
    {
      "cell_type": "markdown",
      "source": [
        "### Figure 3 in the paper:  Log difference between 2005-2007 and financial dep"
      ],
      "metadata": {
        "Collapsed": "true",
        "toc-hr-collapsed": false
      }
    },
    {
      "cell_type": "code",
      "source": [
        "df_so2_05_07 = df_final[(df_final[\"year\"] == 2005) | (df_final[\"year\"] == 2007)]\n",
        "\n",
        "### Compute mean for 2005 and 2007\n",
        "df_mean_SO2 = (\n",
        "    df_so2_05_07.groupby([\"year\", 'CIC'])\n",
        "    .agg({\"tso2\": \"sum\"})\n",
        "    .sort_values(by=['CIC', \"year\"])\n",
        "    .apply(lambda x: np.log(x))\n",
        "    .groupby(level=1)\n",
        "    #.pct_change()\n",
        "    .apply(lambda x: (x.shift() - x)/x.shift())\n",
        "    .dropna()\n",
        ").reset_index().drop(columns = 'year')\n",
        "\n",
        "fin_dep = df_final[['CIC', 'financial_dep_china']].drop_duplicates(\n",
        "    subset=[\"CIC\", \"financial_dep_china\"],\n",
        "    keep=\"first\")\n",
        "\n",
        "### Merge city mandate\n",
        "df_mean_SO2 = (\n",
        "    df_mean_SO2\n",
        "    .merge(fin_dep,\n",
        "           on =  'CIC')\n",
        "    .sort_values(\n",
        "        by = 'financial_dep_china')\n",
        ")\n",
        "df_mean_SO2.head()"
      ],
      "outputs": [],
      "execution_count": null,
      "metadata": {
        "Collapsed": "false"
      }
    },
    {
      "cell_type": "markdown",
      "source": [
        "#### Plotly"
      ],
      "metadata": {
        "Collapsed": "false"
      }
    },
    {
      "cell_type": "code",
      "source": [
        "fig = px.scatter(\n",
        "    df_mean_SO2,\n",
        "    x='financial_dep_china',\n",
        "    y=\"tso2\",\n",
        "    #size=mandate,\n",
        "    #hover_data=[level],\n",
        "    trendline=\"ols\",\n",
        "    title=\"Relationship between Financial dependencies and variation of SO2 between 2005 and 2007, in log\"\n",
        ")\n",
        "fig.update_xaxes(title_text='Financial Dependencies')\n",
        "fig.update_yaxes(title_text='Actual Pollution Reduction, in log')\n",
        "fig.show()"
      ],
      "outputs": [],
      "execution_count": null,
      "metadata": {
        "Collapsed": "false"
      }
    },
    {
      "cell_type": "markdown",
      "source": [
        "### Seaborn"
      ],
      "metadata": {
        "Collapsed": "false"
      }
    },
    {
      "cell_type": "code",
      "source": [
        "sns.set_style(\"white\")\n",
        "#beingsaved.set_rasterized(True)\n",
        "sns.lmplot(x='financial_dep_china',\n",
        "           y=\"tso2\",\n",
        "           data = df_mean_SO2)\n",
        "#plt.title('Relationship between Financial dependencies and variation of SO2 between 2005 and 2007, in log')\n",
        "# Set x-axis label\n",
        "plt.xlabel('Financial Dependency (sector level)')\n",
        "# Set y-axis label\n",
        "plt.ylabel('Actual Pollution Reduction (%)')\n",
        "#plt.savefig('fig1.svg', format='svg', dpi=1200)\n",
        "\n",
        "#plt.savefig('destination_path.eps', format='eps', dpi=1000)\n",
        "plt.savefig(\"fig_3.png\",\n",
        "            bbox_inches='tight',\n",
        "            dpi=600)"
      ],
      "outputs": [],
      "execution_count": null,
      "metadata": {
        "Collapsed": "false"
      }
    },
    {
      "cell_type": "markdown",
      "source": [
        "### Figure 4 in the paper:  Log difference between 2005-2007 and financial dep, by mandate"
      ],
      "metadata": {
        "Collapsed": "false"
      }
    },
    {
      "cell_type": "code",
      "source": [
        "city_ = [#'贵阳',\n",
        "    '唐山',\n",
        "    '厦门']\n",
        "\n",
        "df_so2_05_07 = df_final[(df_final[\"year\"] == 2005) | (df_final[\"year\"] == 2007)]\n",
        "df_so2_05_07 = df_so2_05_07[df_so2_05_07['citycn'].isin(city_)]\n",
        "\n",
        "### Compute mean difference before/after\n",
        "df_mean_SO2 = (\n",
        "    df_so2_05_07.groupby([\"year\", 'CIC', 'citycn'])\n",
        "    .agg({\"tso2\": \"sum\"})\n",
        "    .sort_values(by=['CIC', \"year\", 'citycn'])\n",
        "    .apply(lambda x: np.log(x))\n",
        "    .groupby(level=[1, 2])\n",
        "    #.pct_change()\n",
        "    .apply(lambda x: (x.shift() - x)/x.shift())\n",
        "    .dropna()\n",
        ").reset_index().drop(columns = 'year')\n",
        "\n",
        "fin_dep = df_final[['CIC', 'financial_dep_china']].drop_duplicates(\n",
        "    subset=[\"CIC\", \"financial_dep_china\"],\n",
        "    keep=\"first\")\n",
        "\n",
        "### Merge city mandate\n",
        "df_mean_SO2 = (\n",
        "    df_mean_SO2\n",
        "    .merge(fin_dep,\n",
        "           on =  'CIC')\n",
        "    .sort_values(\n",
        "        by = 'financial_dep_china')\n",
        ")\n",
        "\n",
        "df_mean_SO2['cityen'] = np.where(df_mean_SO2['citycn'] == '唐山',\n",
        "                                 'Tangshan',\n",
        "                                 'Xiamen')\n",
        "\n",
        "df_mean_SO2.head()\n"
      ],
      "outputs": [],
      "execution_count": null,
      "metadata": {
        "Collapsed": "false"
      }
    },
    {
      "cell_type": "markdown",
      "source": [
        "#### Plotly"
      ],
      "metadata": {
        "Collapsed": "false"
      }
    },
    {
      "cell_type": "code",
      "source": [
        "fig = px.scatter(\n",
        "    df_mean_SO2,\n",
        "    x='financial_dep_china',\n",
        "    y=\"tso2\",\n",
        "    color=\"citycn\",\n",
        "    #size=mandate,\n",
        "    #hover_data=[level],\n",
        "    trendline=\"ols\",\n",
        "    title=\"Relationship between Financial dependencies and variation of SO2 between 2005 and 2007, in log\"\n",
        ")\n",
        "fig.update_xaxes(title_text='Financial Dependencies')\n",
        "fig.update_yaxes(title_text='Actual Pollution Reduction, in log')\n",
        "fig.show()"
      ],
      "outputs": [],
      "execution_count": null,
      "metadata": {
        "Collapsed": "false"
      }
    },
    {
      "cell_type": "code",
      "source": [
        "fin_dep = df_final[[\"year\", 'CIC', 'financial_dep_china']].drop_duplicates()[\n",
        "    df_final[\"year\"] == 2007\n",
        "].drop(columns = 'year').sort_values(by ='financial_dep_china')\n",
        "\n",
        "### Merge city mandate\n",
        "df_mean_SO2 = df_mean_SO2.merge(fin_dep,\n",
        "                                on =  'CIC')\n",
        "\n"
      ],
      "outputs": [],
      "execution_count": null,
      "metadata": {
        "Collapsed": "false"
      }
    },
    {
      "cell_type": "markdown",
      "source": [
        "### Seaborn"
      ],
      "metadata": {
        "Collapsed": "false"
      }
    },
    {
      "cell_type": "code",
      "source": [
        "sns.set_style(\"white\")\n",
        "#beingsaved.set_rasterized(True)\n",
        "sns.lmplot(x='financial_dep_china',\n",
        "           y=\"tso2\",\n",
        "           hue=\"cityen\",\n",
        "           legend=False,\n",
        "           data = df_mean_SO2)\n",
        "plt.legend(title='City',\n",
        "           bbox_to_anchor=(1.04,1),\n",
        "           loc=\"upper left\",\n",
        "           labels=['Xiamen (low reduction mandate)',\n",
        "                   'Tangshan (high reduction mandate)'])\n",
        "#plt.title('Relationship between Financial dependencies and variation of SO2 between 2005 and 2007, in log')\n",
        "# Set x-axis label\n",
        "plt.xlabel('Financial Dependency (sector level)')\n",
        "# Set y-axis label\n",
        "plt.ylabel('Actual Pollution Reduction (%)')\n",
        "\n",
        "plt.savefig(\"fig_4.png\",\n",
        "            bbox_inches='tight',\n",
        "            dpi=600)"
      ],
      "outputs": [],
      "execution_count": null,
      "metadata": {
        "Collapsed": "false"
      }
    },
    {
      "cell_type": "markdown",
      "source": [
        "# Archive"
      ],
      "metadata": {
        "Collapsed": "true"
      }
    },
    {
      "cell_type": "code",
      "source": [
        "df_ = df_final.copy()\n",
        "df_['log_tso2'] = np.log(df_['tso2'])\n",
        "\n",
        "all_ = pd.pivot_table(\n",
        "        df_,\n",
        "        values = 'log_tso2',\n",
        "        index=['color_ext_dep', 'year'],\n",
        "        aggfunc=np.mean)\n",
        "\n",
        "groups_ = pd.pivot_table(\n",
        "        df_,\n",
        "        values='log_tso2',\n",
        "        index=['color_ext_dep', 'year'],\n",
        "        columns=['color_target_SO2'],\n",
        "        aggfunc=np.mean)\n",
        "\n",
        "table_ = pd.concat([all_, groups_], axis=1).reset_index()\n",
        "table_.columns = [\n",
        "        'Financial_dep_sectors', 'year', 'All_data', 'Above_med_policy',\n",
        "        'Below_med_policy'\n",
        "    ]\n",
        "table_"
      ],
      "outputs": [],
      "execution_count": null,
      "metadata": {
        "Collapsed": "false"
      }
    },
    {
      "cell_type": "code",
      "source": [
        "fig, axarr = plt.subplots(2, 1, figsize=(11, 11))\n",
        "for i, x in enumerate(['Above', 'Below']):\n",
        "\n",
        "    temp = table_[table_['Financial_dep_sectors'].isin(\n",
        "            [x])].drop(columns=['All_data'])\n",
        "\n",
        "    temp_g = temp.melt(\n",
        "            id_vars=['year', 'Financial_dep_sectors'],\n",
        "            value_name='avg_so2',\n",
        "            var_name='Policy')\n",
        "    \n",
        "    g = sns.lineplot(\n",
        "            x='year',\n",
        "            y=\"avg_so2\",\n",
        "            hue=\"Policy\",\n",
        "            style=\"Policy\",\n",
        "            data=temp_g,\n",
        "            ax=axarr[i])\n",
        "    \n",
        "    g.set_title(\n",
        "            'Industry with financial dependency {0} median'.format(x),\n",
        "            fontsize=18)\n",
        "    g.set_xlabel('Year', fontsize=16)\n",
        "    g.set_ylabel('Average log SO2 value per city', fontsize=16)\n",
        "    g.axvline(2006, ls='--')\n",
        "    legend = g.legend(\n",
        "            title='Reduction mandate, city',\n",
        "            loc='lower right',\n",
        "            labels=['Above median', 'Below median'],\n",
        "            fontsize=12)\n",
        "    legend.get_title().set_fontsize(16)\n",
        "    "
      ],
      "outputs": [],
      "execution_count": null,
      "metadata": {
        "Collapsed": "false"
      }
    }
  ],
  "metadata": {
    "kernel_info": {
      "name": "python3"
    },
    "kernelspec": {
      "name": "python3",
      "language": "python",
      "display_name": "Python 3"
    },
    "language_info": {
      "name": "python",
      "version": "3.7.4",
      "mimetype": "text/x-python",
      "codemirror_mode": {
        "name": "ipython",
        "version": 3
      },
      "pygments_lexer": "ipython3",
      "nbconvert_exporter": "python",
      "file_extension": ".py"
    },
    "nteract": {
      "version": "0.15.0"
    }
  },
  "nbformat": 4,
  "nbformat_minor": 4
}